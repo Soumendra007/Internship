{
 "cells": [
  {
   "cell_type": "markdown",
   "id": "e679506d",
   "metadata": {},
   "source": [
    "#                         **# Regular Expression Practice Questions**"
   ]
  },
  {
   "cell_type": "code",
   "execution_count": null,
   "id": "294cc2f6",
   "metadata": {},
   "outputs": [],
   "source": []
  },
  {
   "cell_type": "markdown",
   "id": "4b820e12",
   "metadata": {},
   "source": [
    "**Question 1-** Write a RegEx pattern in python program to check that a string contains only a certain set of characters (in this case a-z, A-Z and 0-9)."
   ]
  },
  {
   "cell_type": "markdown",
   "id": "56768400",
   "metadata": {},
   "source": [
    "**Answer-**"
   ]
  },
  {
   "cell_type": "code",
   "execution_count": 6,
   "id": "b24070a0",
   "metadata": {},
   "outputs": [
    {
     "name": "stdout",
     "output_type": "stream",
     "text": [
      "['Hi', 'I', 'am', 'Soumendra', 'I', 'have', '5', 'years', 'of', 'experience']\n"
     ]
    }
   ],
   "source": [
    "import regex as re\n",
    "pattern=\"[a-zA-z0-9]+\"\n",
    "\n",
    "target=\"Hi I am Soumendra, I have 5 years of experience\"\n",
    "\n",
    "match=re.findall(pattern,target)\n",
    "print(match)"
   ]
  },
  {
   "cell_type": "code",
   "execution_count": null,
   "id": "49f01f0e",
   "metadata": {},
   "outputs": [],
   "source": []
  },
  {
   "cell_type": "code",
   "execution_count": null,
   "id": "344d5597",
   "metadata": {},
   "outputs": [],
   "source": []
  },
  {
   "cell_type": "markdown",
   "id": "29b5c7a3",
   "metadata": {},
   "source": [
    "**Question 2-** Write a RegEx pattern that matches a string that has an a followed by zero or more b's."
   ]
  },
  {
   "cell_type": "markdown",
   "id": "1c9be913",
   "metadata": {},
   "source": [
    "**Answer-**"
   ]
  },
  {
   "cell_type": "code",
   "execution_count": 10,
   "id": "1a05267e",
   "metadata": {},
   "outputs": [
    {
     "name": "stdout",
     "output_type": "stream",
     "text": [
      "the string has a followed by zero or more b's\n"
     ]
    }
   ],
   "source": [
    "pattern=\"ab*\"\n",
    "\n",
    "target=\"abbbbbbbb\"\n",
    "\n",
    "\n",
    "\n",
    "if re.match(pattern,target):\n",
    "    print(\"the string has a followed by zero or more b's\")\n",
    "else:\n",
    "    print(\"the string has not a followed by zero or more b's\")"
   ]
  },
  {
   "cell_type": "code",
   "execution_count": null,
   "id": "5af9ff78",
   "metadata": {},
   "outputs": [],
   "source": []
  },
  {
   "cell_type": "code",
   "execution_count": 20,
   "id": "6537de43",
   "metadata": {},
   "outputs": [
    {
     "name": "stdout",
     "output_type": "stream",
     "text": [
      "the string has a followed by zero or more b's\n"
     ]
    }
   ],
   "source": [
    "pattern=\"ab*\"\n",
    "\n",
    "target=\"a\"\n",
    "\n",
    "\n",
    "\n",
    "if re.match(pattern,target):\n",
    "    print(\"the string has a followed by zero or more b's\")\n",
    "else:\n",
    "    print(\"the string has not a followed by zero or more b's\")"
   ]
  },
  {
   "cell_type": "code",
   "execution_count": null,
   "id": "8c72d259",
   "metadata": {},
   "outputs": [],
   "source": []
  },
  {
   "cell_type": "code",
   "execution_count": null,
   "id": "55900f5c",
   "metadata": {},
   "outputs": [],
   "source": []
  },
  {
   "cell_type": "markdown",
   "id": "ada6075e",
   "metadata": {},
   "source": [
    "**Question 3-**  Write a RegEx pattern that matches a string that has an a followed by one or more b's"
   ]
  },
  {
   "cell_type": "markdown",
   "id": "b5ff54de",
   "metadata": {},
   "source": [
    "**Answer-**"
   ]
  },
  {
   "cell_type": "code",
   "execution_count": 25,
   "id": "3fd909f2",
   "metadata": {},
   "outputs": [],
   "source": [
    "def string(a):\n",
    "    pattern=\"ab+\"\n",
    "    \n",
    "    if re.match(pattern,a):\n",
    "        print(\"Pattern match\")\n",
    "    else:\n",
    "        print(\"pattern did not match\")"
   ]
  },
  {
   "cell_type": "code",
   "execution_count": 26,
   "id": "eec99342",
   "metadata": {},
   "outputs": [
    {
     "name": "stdout",
     "output_type": "stream",
     "text": [
      "Pattern match\n"
     ]
    }
   ],
   "source": [
    "string(\"ab\")"
   ]
  },
  {
   "cell_type": "code",
   "execution_count": 27,
   "id": "19086650",
   "metadata": {},
   "outputs": [
    {
     "name": "stdout",
     "output_type": "stream",
     "text": [
      "Pattern match\n"
     ]
    }
   ],
   "source": [
    "string(\"abbb\")"
   ]
  },
  {
   "cell_type": "code",
   "execution_count": 28,
   "id": "719f9cdc",
   "metadata": {},
   "outputs": [
    {
     "name": "stdout",
     "output_type": "stream",
     "text": [
      "pattern did not match\n"
     ]
    }
   ],
   "source": [
    "string(\"a\")"
   ]
  },
  {
   "cell_type": "code",
   "execution_count": 29,
   "id": "a03284cd",
   "metadata": {},
   "outputs": [
    {
     "name": "stdout",
     "output_type": "stream",
     "text": [
      "pattern did not match\n"
     ]
    }
   ],
   "source": [
    "string(\"z\")"
   ]
  },
  {
   "cell_type": "code",
   "execution_count": null,
   "id": "252e5445",
   "metadata": {},
   "outputs": [],
   "source": []
  },
  {
   "cell_type": "markdown",
   "id": "f8af52f6",
   "metadata": {},
   "source": [
    "**Question 4**- Write a RegEx pattern that matches a string that has an a followed by zero or one 'b'."
   ]
  },
  {
   "cell_type": "markdown",
   "id": "34011552",
   "metadata": {},
   "source": [
    "**Answer-**"
   ]
  },
  {
   "cell_type": "code",
   "execution_count": 54,
   "id": "575abaf1",
   "metadata": {},
   "outputs": [],
   "source": [
    "def a_followed_by_zero_or_one_b(x):\n",
    "    pattern=\"ab?$\"\n",
    "    \n",
    "    if re.findall(pattern,x):\n",
    "        print(\"pattern match\")\n",
    "    else:\n",
    "        print(\"Pattern did not match\")"
   ]
  },
  {
   "cell_type": "code",
   "execution_count": 55,
   "id": "f36c69e3",
   "metadata": {},
   "outputs": [
    {
     "name": "stdout",
     "output_type": "stream",
     "text": [
      "pattern match\n"
     ]
    }
   ],
   "source": [
    "a_followed_by_zero_or_one_b(\"a\")"
   ]
  },
  {
   "cell_type": "code",
   "execution_count": 56,
   "id": "3aeee2fa",
   "metadata": {},
   "outputs": [
    {
     "name": "stdout",
     "output_type": "stream",
     "text": [
      "pattern match\n"
     ]
    }
   ],
   "source": [
    "a_followed_by_zero_or_one_b(\"ab\")"
   ]
  },
  {
   "cell_type": "code",
   "execution_count": 57,
   "id": "6d897c93",
   "metadata": {},
   "outputs": [
    {
     "name": "stdout",
     "output_type": "stream",
     "text": [
      "Pattern did not match\n"
     ]
    }
   ],
   "source": [
    "a_followed_by_zero_or_one_b(\"abb\")"
   ]
  },
  {
   "cell_type": "code",
   "execution_count": 58,
   "id": "7874e7e1",
   "metadata": {},
   "outputs": [
    {
     "name": "stdout",
     "output_type": "stream",
     "text": [
      "Pattern did not match\n"
     ]
    }
   ],
   "source": [
    "a_followed_by_zero_or_one_b(\"abc\")"
   ]
  },
  {
   "cell_type": "code",
   "execution_count": null,
   "id": "7f50982c",
   "metadata": {},
   "outputs": [],
   "source": []
  },
  {
   "cell_type": "code",
   "execution_count": null,
   "id": "ebcf18ba",
   "metadata": {},
   "outputs": [],
   "source": []
  },
  {
   "cell_type": "markdown",
   "id": "08f036a4",
   "metadata": {},
   "source": [
    "**Question 5-** Write a RegEx pattern in python program that matches a string that has an a followed by three 'b'."
   ]
  },
  {
   "cell_type": "markdown",
   "id": "6592e4ca",
   "metadata": {},
   "source": [
    "**Answer-**"
   ]
  },
  {
   "cell_type": "code",
   "execution_count": 60,
   "id": "c4512626",
   "metadata": {},
   "outputs": [
    {
     "name": "stdout",
     "output_type": "stream",
     "text": [
      "['abbb']\n"
     ]
    }
   ],
   "source": [
    "target=\"abbbb abb abbbbbb aabbabbb abbb\"\n",
    "\n",
    "match=re.findall(\"abbb$\",target)\n",
    "print(match)"
   ]
  },
  {
   "cell_type": "code",
   "execution_count": 64,
   "id": "468d88c5",
   "metadata": {},
   "outputs": [
    {
     "name": "stdout",
     "output_type": "stream",
     "text": [
      "['abbb']\n"
     ]
    }
   ],
   "source": [
    "target=\"abbbb abb abbbbbb aabbabbb abbb\"\n",
    "\n",
    "mat=re.findall(\"ab{3}$\",target)\n",
    "print(mat)"
   ]
  },
  {
   "cell_type": "code",
   "execution_count": null,
   "id": "e0e309ba",
   "metadata": {},
   "outputs": [],
   "source": []
  },
  {
   "cell_type": "markdown",
   "id": "c2ebaf32",
   "metadata": {},
   "source": [
    "**Question 6-** Write a RegEx pattern in python program that matches a string that has an a followed by two to three 'b'."
   ]
  },
  {
   "cell_type": "markdown",
   "id": "72f9543f",
   "metadata": {},
   "source": [
    "**Answer-**"
   ]
  },
  {
   "cell_type": "code",
   "execution_count": 85,
   "id": "1bd9dc5b",
   "metadata": {},
   "outputs": [
    {
     "name": "stdout",
     "output_type": "stream",
     "text": [
      "abb\n",
      "abbb\n"
     ]
    }
   ],
   "source": [
    "target=\"abbbb abb abbbbbb aabbabbb abbb abbabbbabbbb\"\n",
    "pattern=re.compile(r\"(\\bab{2,3}\\b)\")\n",
    "\n",
    "result=pattern.finditer(target)\n",
    "\n",
    "for i in result:\n",
    "    print(i.group())\n",
    "    "
   ]
  },
  {
   "cell_type": "code",
   "execution_count": null,
   "id": "69679fd5",
   "metadata": {},
   "outputs": [],
   "source": []
  },
  {
   "cell_type": "markdown",
   "id": "af8411d5",
   "metadata": {},
   "source": [
    "**Question 7-** Write a Python program that matches a string that has an 'a' followed by anything, ending in 'b'."
   ]
  },
  {
   "cell_type": "markdown",
   "id": "b535a816",
   "metadata": {},
   "source": [
    "**Answer-**"
   ]
  },
  {
   "cell_type": "code",
   "execution_count": 126,
   "id": "4cc6a922",
   "metadata": {},
   "outputs": [],
   "source": [
    "def match(c):\n",
    "    pattern = r'a.*b$'\n",
    "#target=\"a avdgdggdb aaaaaahhfhfdhjbfbbb a453634747&*$#@bdfhbbbb  gfddfdfdgb\"\n",
    "    if re.findall(pattern,c):\n",
    "        print(\"pattern match\")\n",
    "    else:\n",
    "        print(\"Pattern did not match\")"
   ]
  },
  {
   "cell_type": "code",
   "execution_count": 127,
   "id": "2f9dee3d",
   "metadata": {},
   "outputs": [
    {
     "name": "stdout",
     "output_type": "stream",
     "text": [
      "Pattern did not match\n"
     ]
    }
   ],
   "source": [
    "match(\"a\")"
   ]
  },
  {
   "cell_type": "code",
   "execution_count": 128,
   "id": "08086631",
   "metadata": {},
   "outputs": [
    {
     "name": "stdout",
     "output_type": "stream",
     "text": [
      "pattern match\n"
     ]
    }
   ],
   "source": [
    "match(\"avdgdggdb\")"
   ]
  },
  {
   "cell_type": "code",
   "execution_count": 129,
   "id": "f0347c1d",
   "metadata": {},
   "outputs": [
    {
     "name": "stdout",
     "output_type": "stream",
     "text": [
      "pattern match\n"
     ]
    }
   ],
   "source": [
    "match(\"a453634747&*$#@bdfhbbbb\")"
   ]
  },
  {
   "cell_type": "code",
   "execution_count": 130,
   "id": "99dde976",
   "metadata": {},
   "outputs": [
    {
     "name": "stdout",
     "output_type": "stream",
     "text": [
      "Pattern did not match\n"
     ]
    }
   ],
   "source": [
    "match(\"gfddfdfdgb\")"
   ]
  },
  {
   "cell_type": "code",
   "execution_count": null,
   "id": "1f0901b9",
   "metadata": {},
   "outputs": [],
   "source": []
  },
  {
   "cell_type": "markdown",
   "id": "df74a6fc",
   "metadata": {},
   "source": [
    "**Question 8-** Write a RegEx pattern in python program that matches a word at the beginning of a string."
   ]
  },
  {
   "cell_type": "markdown",
   "id": "a33bc4ab",
   "metadata": {},
   "source": [
    "**Answer-**"
   ]
  },
  {
   "cell_type": "code",
   "execution_count": 140,
   "id": "d899530d",
   "metadata": {},
   "outputs": [],
   "source": [
    "def first_word(A):\n",
    "    store=re.split(\"\\s\",A,1)\n",
    "    print(store[0])"
   ]
  },
  {
   "cell_type": "code",
   "execution_count": 141,
   "id": "1e82f332",
   "metadata": {},
   "outputs": [
    {
     "name": "stdout",
     "output_type": "stream",
     "text": [
      "I\n"
     ]
    }
   ],
   "source": [
    "first_word(\"I am good\")"
   ]
  },
  {
   "cell_type": "code",
   "execution_count": 142,
   "id": "d2d27a74",
   "metadata": {},
   "outputs": [
    {
     "name": "stdout",
     "output_type": "stream",
     "text": [
      "Apple\n"
     ]
    }
   ],
   "source": [
    "first_word(\"Apple is red\")"
   ]
  },
  {
   "cell_type": "code",
   "execution_count": null,
   "id": "ff395bc7",
   "metadata": {},
   "outputs": [],
   "source": []
  },
  {
   "cell_type": "markdown",
   "id": "4896929a",
   "metadata": {},
   "source": [
    "**Question 9-** Write a RegEx pattern in python program that matches a word at the end of a string."
   ]
  },
  {
   "cell_type": "markdown",
   "id": "55e5d0ad",
   "metadata": {},
   "source": [
    "**Answer-**"
   ]
  },
  {
   "cell_type": "code",
   "execution_count": 143,
   "id": "d81d2adc",
   "metadata": {},
   "outputs": [],
   "source": [
    "def last_word(L):\n",
    "    store=re.split(\"\\s\",L)\n",
    "    print(store[-1])"
   ]
  },
  {
   "cell_type": "code",
   "execution_count": 144,
   "id": "d229ad9f",
   "metadata": {},
   "outputs": [
    {
     "name": "stdout",
     "output_type": "stream",
     "text": [
      "good\n"
     ]
    }
   ],
   "source": [
    "last_word(\"I am good\")"
   ]
  },
  {
   "cell_type": "code",
   "execution_count": 145,
   "id": "416c0435",
   "metadata": {},
   "outputs": [
    {
     "name": "stdout",
     "output_type": "stream",
     "text": [
      "red\n"
     ]
    }
   ],
   "source": [
    "last_word(\"Apple is red\")"
   ]
  },
  {
   "cell_type": "code",
   "execution_count": null,
   "id": "99145b38",
   "metadata": {},
   "outputs": [],
   "source": []
  },
  {
   "cell_type": "markdown",
   "id": "6676b6c1",
   "metadata": {},
   "source": [
    "**Question 10-** Write a RegEx pattern in python program to find all words that are 4 digits long in a string.\n",
    "\n",
    "**Sample text-** '01 0132 231875 1458 301 2725.'\n",
    "\n",
    "**Expected output-** ['0132', '1458', '2725']\n"
   ]
  },
  {
   "cell_type": "markdown",
   "id": "7247a693",
   "metadata": {},
   "source": [
    "**Answer-**"
   ]
  },
  {
   "cell_type": "code",
   "execution_count": 149,
   "id": "2144993a",
   "metadata": {},
   "outputs": [
    {
     "name": "stdout",
     "output_type": "stream",
     "text": [
      "['0132', '1458', '2725']\n"
     ]
    }
   ],
   "source": [
    "Sample_text='01 0132 231875 1458 301 2725.'\n",
    "\n",
    "pattern=r\"\\b\\d{4}\\b\"\n",
    "\n",
    "result=re.findall(pattern,Sample_text)\n",
    "\n",
    "print(result)"
   ]
  },
  {
   "cell_type": "code",
   "execution_count": null,
   "id": "604847b5",
   "metadata": {},
   "outputs": [],
   "source": []
  }
 ],
 "metadata": {
  "kernelspec": {
   "display_name": "Python 3 (ipykernel)",
   "language": "python",
   "name": "python3"
  },
  "language_info": {
   "codemirror_mode": {
    "name": "ipython",
    "version": 3
   },
   "file_extension": ".py",
   "mimetype": "text/x-python",
   "name": "python",
   "nbconvert_exporter": "python",
   "pygments_lexer": "ipython3",
   "version": "3.10.9"
  }
 },
 "nbformat": 4,
 "nbformat_minor": 5
}
