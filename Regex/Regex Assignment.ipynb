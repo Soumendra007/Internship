{
 "cells": [
  {
   "cell_type": "markdown",
   "id": "08ff54a6",
   "metadata": {},
   "source": [
    "# Regular Expressions"
   ]
  },
  {
   "cell_type": "code",
   "execution_count": null,
   "id": "e3316c7e",
   "metadata": {},
   "outputs": [],
   "source": []
  },
  {
   "cell_type": "markdown",
   "id": "77af6ecf",
   "metadata": {},
   "source": [
    "**Question 1-** Write a Python program to replace all occurrences of a space, comma, or dot with a colon.\n",
    "\n",
    "**Sample Text-**'Python Exercises, PHP exercises.'\n",
    "\n",
    "**Expected Output:** Python:Exercises::PHP:exercises:\n"
   ]
  },
  {
   "cell_type": "markdown",
   "id": "e3082987",
   "metadata": {},
   "source": [
    "**Answer**"
   ]
  },
  {
   "cell_type": "code",
   "execution_count": 1,
   "id": "fa95742c",
   "metadata": {},
   "outputs": [
    {
     "name": "stdout",
     "output_type": "stream",
     "text": [
      "Python:Exercises::PHP:exercises:\n"
     ]
    }
   ],
   "source": [
    "import re\n",
    "Sample_Text='Python Exercises, PHP exercises.'\n",
    "\n",
    "Expected_Output=re.sub(\"\\s|\\.|\\,\",\":\",Sample_Text)\n",
    "#Expected_Output=re.sub(\"[,. ]\",\":\",Sample_Text)\n",
    "print(Expected_Output)\n"
   ]
  },
  {
   "cell_type": "code",
   "execution_count": 13,
   "id": "8dcb40da",
   "metadata": {},
   "outputs": [
    {
     "name": "stdout",
     "output_type": "stream",
     "text": [
      "Python:Exercises::PHP:exercises:\n"
     ]
    }
   ],
   "source": [
    "Sample_Text='Python Exercises, PHP exercises.'\n",
    "\n",
    "Expected_Output=re.sub(\"[,. ]\",\":\",Sample_Text)\n",
    "print(Expected_Output)"
   ]
  },
  {
   "cell_type": "code",
   "execution_count": null,
   "id": "7c3bfc80",
   "metadata": {},
   "outputs": [],
   "source": []
  },
  {
   "cell_type": "markdown",
   "id": "b1e4fcfc",
   "metadata": {},
   "source": [
    "**Question 2-**  Write a Python program to find all words starting with 'a' or 'e' in a given string."
   ]
  },
  {
   "cell_type": "markdown",
   "id": "5e62c3de",
   "metadata": {},
   "source": [
    "**Answer**"
   ]
  },
  {
   "cell_type": "code",
   "execution_count": 18,
   "id": "b2e619e2",
   "metadata": {},
   "outputs": [
    {
     "name": "stdout",
     "output_type": "stream",
     "text": [
      "['am', 'egar', 'English']\n"
     ]
    }
   ],
   "source": [
    "target=\"I am egar to learn English.\"\n",
    "\n",
    "pattern=r\"\\b[aeAE]\\w+\"\n",
    "\n",
    "x=re.findall(pattern,target)\n",
    "print(x)"
   ]
  },
  {
   "cell_type": "code",
   "execution_count": null,
   "id": "ba2aa1b8",
   "metadata": {},
   "outputs": [],
   "source": []
  },
  {
   "cell_type": "markdown",
   "id": "50cf73da",
   "metadata": {},
   "source": [
    "**Question 3-** Create a function in python to find all words that are at least 4 characters long in a string. The use of the re.compile() method is mandatory."
   ]
  },
  {
   "cell_type": "markdown",
   "id": "fbb32e33",
   "metadata": {},
   "source": [
    "**Answer**"
   ]
  },
  {
   "cell_type": "code",
   "execution_count": 27,
   "id": "75233851",
   "metadata": {},
   "outputs": [],
   "source": [
    "def find_at_least_four_charectertarget(x):\n",
    "    \n",
    "    pattern=re.compile(\"\\w{4,}\")\n",
    "    result=pattern.findall(x)\n",
    "    print(result)"
   ]
  },
  {
   "cell_type": "code",
   "execution_count": 28,
   "id": "223a85e9",
   "metadata": {},
   "outputs": [
    {
     "name": "stdout",
     "output_type": "stream",
     "text": [
      "['quick', 'jumped', 'over', 'lazy']\n"
     ]
    }
   ],
   "source": [
    "find_at_least_four_charectertarget(\"quick fox jumped over lazy dog\")"
   ]
  },
  {
   "cell_type": "markdown",
   "id": "c084608e",
   "metadata": {},
   "source": [
    "**Question 4-** Create a function in python to find all three, four, and five character words in a string. The use of the re.compile() method is mandatory."
   ]
  },
  {
   "cell_type": "markdown",
   "id": "b0adee94",
   "metadata": {},
   "source": [
    "**Answer:**\n",
    "    "
   ]
  },
  {
   "cell_type": "code",
   "execution_count": 31,
   "id": "e4f7fe5f",
   "metadata": {},
   "outputs": [],
   "source": [
    "def find_three_four_five_char_string():\n",
    "    \n",
    "    target=str(input(\"Type anything\"))\n",
    "    pattern=re.compile(r\"\\b\\w{3,5}\\b\")\n",
    "    output=pattern.findall(target)\n",
    "    print(output)"
   ]
  },
  {
   "cell_type": "code",
   "execution_count": 34,
   "id": "a96ed87f",
   "metadata": {},
   "outputs": [
    {
     "name": "stdout",
     "output_type": "stream",
     "text": [
      "Type anythingHello this apple is really good to have tom , thank you\n",
      "['Hello', 'this', 'apple', 'good', 'have', 'tom', 'thank', 'you']\n"
     ]
    }
   ],
   "source": [
    "find_three_four_five_char_string()"
   ]
  },
  {
   "cell_type": "code",
   "execution_count": null,
   "id": "4122fdfd",
   "metadata": {},
   "outputs": [],
   "source": []
  },
  {
   "cell_type": "markdown",
   "id": "60b4548d",
   "metadata": {},
   "source": [
    "**Question 5-** Create a function in Python to remove the parenthesis in a list of strings. The use of the re.compile() method is mandatory.\n",
    "\n",
    "**Sample Text:** [\"example (.com)\", \"hr@fliprobo (.com)\", \"github (.com)\", \"Hello (Data Science World)\", \"Data (Scientist)\"]\n",
    "\n",
    "**Expected Output:**\n",
    "\n",
    "example.com\n",
    "\n",
    "hr@fliprobo.com\n",
    "\n",
    "github.com\n",
    "\n",
    "Hello Data Science World\n",
    "\n",
    "Data Scientist\n"
   ]
  },
  {
   "cell_type": "markdown",
   "id": "d02a8e1b",
   "metadata": {},
   "source": [
    "**Answer**"
   ]
  },
  {
   "cell_type": "code",
   "execution_count": 62,
   "id": "83665c1f",
   "metadata": {},
   "outputs": [],
   "source": [
    "def remove_paranthesis():\n",
    "    \n",
    "    pattern=re.compile(\"\\(([^\\)])*\\)\")\n",
    "    \n",
    "    Sample_Text= [\"example (.com)\", \"hr@fliprobo (.com)\", \"github (.com)\", \"Hello (Data Science World)\", \"Data (Scientist)\"] \n",
    "    for i in Sample_Text:\n",
    "        new=re.sub(pattern,\"\",i).strip()\n",
    "        print(new)\n",
    "  "
   ]
  },
  {
   "cell_type": "code",
   "execution_count": 63,
   "id": "a91d09ea",
   "metadata": {},
   "outputs": [
    {
     "name": "stdout",
     "output_type": "stream",
     "text": [
      "example\n",
      "hr@fliprobo\n",
      "github\n",
      "Hello\n",
      "Data\n"
     ]
    }
   ],
   "source": [
    "remove_paranthesis()"
   ]
  },
  {
   "cell_type": "code",
   "execution_count": null,
   "id": "b934d7fb",
   "metadata": {},
   "outputs": [],
   "source": []
  },
  {
   "cell_type": "code",
   "execution_count": null,
   "id": "eb8a788a",
   "metadata": {},
   "outputs": [],
   "source": []
  },
  {
   "cell_type": "markdown",
   "id": "7cbabbe5",
   "metadata": {},
   "source": [
    "**Question 6-** Write a python program to remove the parenthesis area from the text stored in the text file using Regular Expression.\n",
    "\n",
    "**Sample Text:** [\"example (.com)\", \"hr@fliprobo (.com)\", \"github (.com)\", \"Hello (Data Science World)\", \"Data (Scientist)\"]\n",
    "\n",
    "**Expected Output:** [\"example\", \"hr@fliprobo\", \"github\", \"Hello\", \"Data\"]\n",
    "\n",
    "**Note-** Store given sample text in the text file and then to remove the parenthesis area from the text.\n"
   ]
  },
  {
   "cell_type": "markdown",
   "id": "ec01138f",
   "metadata": {},
   "source": [
    "**Answer**"
   ]
  },
  {
   "cell_type": "code",
   "execution_count": 7,
   "id": "6943d036",
   "metadata": {},
   "outputs": [
    {
     "name": "stdout",
     "output_type": "stream",
     "text": [
      "[\"example \", \"hr@fliprobo \", \"github \", \"Hello \", \"Data \"]\n"
     ]
    }
   ],
   "source": [
    "with open(r\"C:\\Users\\Sourendra\\Desktop\\Sample Text.txt\") as file:\n",
    "    \n",
    "\n",
    "    for line in file:\n",
    "        pattern=\"\\([^)]*\\)\"\n",
    "        new=re.sub(pattern,\"\",line).strip()\n",
    "        print(new)"
   ]
  },
  {
   "cell_type": "code",
   "execution_count": null,
   "id": "eb816614",
   "metadata": {},
   "outputs": [],
   "source": []
  },
  {
   "cell_type": "code",
   "execution_count": null,
   "id": "a9ca5fc3",
   "metadata": {},
   "outputs": [],
   "source": []
  },
  {
   "cell_type": "markdown",
   "id": "b868b825",
   "metadata": {},
   "source": [
    "**Question 7-** Write a regular expression in Python to split a string into uppercase letters.\n",
    "\n",
    "**Sample text:** “ImportanceOfRegularExpressionsInPython”\n",
    "\n",
    "**Expected Output:** [‘Importance’, ‘Of’, ‘Regular’, ‘Expression’, ‘In’, ‘Python’]\n"
   ]
  },
  {
   "cell_type": "markdown",
   "id": "ad0805c4",
   "metadata": {},
   "source": [
    "**Answer:**"
   ]
  },
  {
   "cell_type": "code",
   "execution_count": 3,
   "id": "2ae49520",
   "metadata": {},
   "outputs": [
    {
     "name": "stdout",
     "output_type": "stream",
     "text": [
      "['Importance', 'Of', 'Regular', 'Expressions', 'In', 'Python']\n"
     ]
    }
   ],
   "source": [
    "Sample_text=\"ImportanceOfRegularExpressionsInPython\"\n",
    "pattern=\"[A-Z][a-z]*\"\n",
    "Expected_Output=re.findall(pattern,Sample_text)\n",
    "print(Expected_Output)"
   ]
  },
  {
   "cell_type": "code",
   "execution_count": null,
   "id": "4b698a6f",
   "metadata": {},
   "outputs": [],
   "source": []
  },
  {
   "cell_type": "markdown",
   "id": "5c367228",
   "metadata": {},
   "source": [
    "**Question 8-** Create a function in python to insert spaces between words starting with numbers.\n",
    "\n",
    "**Sample Text:** “RegularExpression1IsAn2ImportantTopic3InPython\"\n",
    "\n",
    "**Expected Output:** RegularExpression 1IsAn 2ImportantTopic 3InPython\n"
   ]
  },
  {
   "cell_type": "markdown",
   "id": "64fc3bb9",
   "metadata": {},
   "source": [
    "**Answer**"
   ]
  },
  {
   "cell_type": "code",
   "execution_count": 40,
   "id": "05cf20e6",
   "metadata": {},
   "outputs": [
    {
     "name": "stdout",
     "output_type": "stream",
     "text": [
      "RegularExpression 1IsAn 2ImportantTopic 3InPython\n",
      "None\n"
     ]
    }
   ],
   "source": [
    "def find_number():\n",
    "    pattern=r\"(\\d)([A-za-z])\"\n",
    "    new=re.sub(pattern,r\" \\1\\2\",string)\n",
    "    print(new)\n",
    "string=\"RegularExpression1IsAn2ImportantTopic3InPython\"\n",
    "new=find_number()\n",
    "print(new)"
   ]
  },
  {
   "cell_type": "code",
   "execution_count": null,
   "id": "19472ca1",
   "metadata": {},
   "outputs": [],
   "source": []
  },
  {
   "cell_type": "markdown",
   "id": "0f74f23d",
   "metadata": {},
   "source": [
    "**Question 9-** Create a function in python to insert spaces between words starting with capital letters or with numbers.\n",
    "\n",
    "**Sample Text:** “RegularExpression1IsAn2ImportantTopic3InPython\"\n",
    "\n",
    "**Expected Output:**  RegularExpression 1 IsAn 2 ImportantTopic 3 InPython\n"
   ]
  },
  {
   "cell_type": "markdown",
   "id": "36750343",
   "metadata": {},
   "source": [
    "**Answer**"
   ]
  },
  {
   "cell_type": "code",
   "execution_count": 41,
   "id": "24eecf68",
   "metadata": {},
   "outputs": [
    {
     "name": "stdout",
     "output_type": "stream",
     "text": [
      "RegularExpression 1 IsAn 2 ImportantTopic 3 InPython\n",
      "None\n"
     ]
    }
   ],
   "source": [
    "def find_number_capital():\n",
    "    Sample_Text=\"RegularExpression1IsAn2ImportantTopic3InPython\"\n",
    "    pattern=r\"(\\d)+|([A-Z][A-Z])\"\n",
    "    new=re.sub(pattern,r\" \\1 \\2\",string)\n",
    "    print(new)\n",
    "call=find_number_capital()\n",
    "print(call)"
   ]
  },
  {
   "cell_type": "code",
   "execution_count": null,
   "id": "1b96279a",
   "metadata": {},
   "outputs": [],
   "source": []
  },
  {
   "cell_type": "markdown",
   "id": "a6d6a17c",
   "metadata": {},
   "source": [
    "**Question 10-** Write a python program to extract email address from the text stored in the text file using Regular Expression.\n",
    "\n",
    "**Sample Text-** Hello my name is Data Science and my email address is xyz@domain.com and alternate email address is xyz.abc@sdomain.domain.com. \n",
    "Please contact us at hr@fliprobo.com for further information. \n",
    "\n",
    "**Expected Output:** \n",
    "['xyz@domain.com', 'xyz.abc@sdomain.domain.com']\n",
    "['hr@fliprobo.com']\n",
    "\n",
    "**Note-** Store given sample text in the text file and then extract email addresses.\n"
   ]
  },
  {
   "cell_type": "markdown",
   "id": "f9683499",
   "metadata": {},
   "source": [
    "**Answer**"
   ]
  },
  {
   "cell_type": "code",
   "execution_count": 52,
   "id": "1a222aca",
   "metadata": {},
   "outputs": [
    {
     "name": "stdout",
     "output_type": "stream",
     "text": [
      "['xyz@domain.com', 'xyz.abc@sdomain.domain.com']\n",
      "['hr@fliprobo.com']\n"
     ]
    }
   ],
   "source": [
    "with open(r\"C:\\Users\\Sourendra\\Desktop\\email sample.txt\") as file:\n",
    "    for line in file:\n",
    "        \n",
    "        pattern=r\"\\b[\\w+._%+-]+@[\\w+.-]+\\.[A-Z|a-z]{2,3}\\b\"\n",
    "        fetch=re.findall(pattern,line)\n",
    "        print(fetch)"
   ]
  },
  {
   "cell_type": "code",
   "execution_count": null,
   "id": "8975dcee",
   "metadata": {},
   "outputs": [],
   "source": []
  },
  {
   "cell_type": "markdown",
   "id": "f881d169",
   "metadata": {},
   "source": [
    "**Question 11-** Write a Python program to match a string that contains only upper and lowercase letters, numbers, and underscores."
   ]
  },
  {
   "cell_type": "markdown",
   "id": "6f1c6ef7",
   "metadata": {},
   "source": [
    "**Answer**"
   ]
  },
  {
   "cell_type": "code",
   "execution_count": 93,
   "id": "27075089",
   "metadata": {},
   "outputs": [],
   "source": [
    "def string(A):\n",
    "    \n",
    "    if re.match(r\"^(?=.*\\d)[A-Za-z0-9_]*_[A-Za-z0-9_]*$\",A):\n",
    "        print(A,\"its a valid string\")\n",
    "    else:\n",
    "        print(\"This is not a valid string\")"
   ]
  },
  {
   "cell_type": "code",
   "execution_count": 96,
   "id": "d0c9fd08",
   "metadata": {},
   "outputs": [
    {
     "name": "stdout",
     "output_type": "stream",
     "text": [
      "vgdvAG_8 its a valid string\n"
     ]
    }
   ],
   "source": [
    "string(\"vgdvAG_8\")#It has "
   ]
  },
  {
   "cell_type": "code",
   "execution_count": 98,
   "id": "50253201",
   "metadata": {},
   "outputs": [
    {
     "name": "stdout",
     "output_type": "stream",
     "text": [
      "This is not a valid string\n"
     ]
    }
   ],
   "source": [
    "string(\"jbfdb\")#it has no underscore and no number and no Uppercase letter"
   ]
  },
  {
   "cell_type": "code",
   "execution_count": 100,
   "id": "ce25b340",
   "metadata": {},
   "outputs": [
    {
     "name": "stdout",
     "output_type": "stream",
     "text": [
      "This is not a valid string\n"
     ]
    }
   ],
   "source": [
    "string(\"Anfdnfj_\")#It has no number"
   ]
  },
  {
   "cell_type": "code",
   "execution_count": 101,
   "id": "8f3b0c48",
   "metadata": {},
   "outputs": [
    {
     "name": "stdout",
     "output_type": "stream",
     "text": [
      "n3fdnfj_ its a valid string\n"
     ]
    }
   ],
   "source": [
    "string(\"n3fdnfj_\")#It has no Uppercase letter"
   ]
  },
  {
   "cell_type": "code",
   "execution_count": null,
   "id": "4e8e84a4",
   "metadata": {},
   "outputs": [],
   "source": []
  },
  {
   "cell_type": "markdown",
   "id": "5cea899a",
   "metadata": {},
   "source": [
    "**Question 12-** Write a Python program where a string will start with a specific number. "
   ]
  },
  {
   "cell_type": "markdown",
   "id": "7c36213c",
   "metadata": {},
   "source": [
    "**Answer**"
   ]
  },
  {
   "cell_type": "code",
   "execution_count": 103,
   "id": "492edbf8",
   "metadata": {},
   "outputs": [
    {
     "name": "stdout",
     "output_type": "stream",
     "text": [
      "It does not match\n"
     ]
    }
   ],
   "source": [
    "number=\"007\"\n",
    "#target=\"007 is the number of James Bond\"\n",
    "target=\"035 is the number of James Bond\"\n",
    "if target.startswith(\"007\"):\n",
    "    print(\"Number match\")\n",
    "else:\n",
    "    print(\"It does not match\")\n",
    "    "
   ]
  },
  {
   "cell_type": "code",
   "execution_count": null,
   "id": "cea5b6c1",
   "metadata": {},
   "outputs": [],
   "source": []
  },
  {
   "cell_type": "markdown",
   "id": "669d0fe9",
   "metadata": {},
   "source": [
    "**Question 13-** Write a Python program to remove leading zeros from an IP address"
   ]
  },
  {
   "cell_type": "markdown",
   "id": "30c39fab",
   "metadata": {},
   "source": [
    "**Answer**"
   ]
  },
  {
   "cell_type": "code",
   "execution_count": 8,
   "id": "830468aa",
   "metadata": {},
   "outputs": [
    {
     "data": {
      "text/plain": [
       "'192.153.1.2'"
      ]
     },
     "execution_count": 8,
     "metadata": {},
     "output_type": "execute_result"
    }
   ],
   "source": [
    "ip=\"192.153.001.002\"\n",
    "pattern=r\"\\.0+\"\n",
    "\n",
    "new_ip=re.sub(pattern,\".\",ip).strip()\n",
    "new_ip"
   ]
  },
  {
   "cell_type": "code",
   "execution_count": null,
   "id": "c05e85ad",
   "metadata": {},
   "outputs": [],
   "source": []
  },
  {
   "cell_type": "markdown",
   "id": "cf3d4135",
   "metadata": {},
   "source": [
    "**Question 14-** Write a regular expression in python to match a date string in the form of Month name followed by day number and year stored in a text file.\n",
    "\n",
    "**Sample text :**  ' On August 15th 1947 that India was declared independent from British colonialism, and the reins of control were handed over to the leaders of the Country’.\n",
    "\n",
    "**Expected Output-** August 15th 1947\n",
    "\n",
    "**Note-** Store given sample text in the text file and then extract the date string asked format.\n"
   ]
  },
  {
   "cell_type": "markdown",
   "id": "cb69789c",
   "metadata": {},
   "source": [
    "**Answer:**"
   ]
  },
  {
   "cell_type": "code",
   "execution_count": 10,
   "id": "f38acb81",
   "metadata": {},
   "outputs": [
    {
     "name": "stdout",
     "output_type": "stream",
     "text": [
      "['August 15th 1947']\n",
      "August 15th 1947\n"
     ]
    }
   ],
   "source": [
    "with open(r\"C:\\Users\\Sourendra\\Desktop\\date sample.txt\") as file:\n",
    "    for line in file:\n",
    "        #pattern=r\"\\b\\w{3,9} \\d{1,2}(th|st|nd|rd) \\d{4}\\b\"\n",
    "        pattern=r'\\b([A-Z][a-z]+ \\d{1,2}(?:st|nd|rd|th) \\d{4})\\b'\n",
    "        match=re.findall(pattern,line)\n",
    "        print(match)\n",
    "        print(match[0])\n",
    "        "
   ]
  },
  {
   "cell_type": "code",
   "execution_count": null,
   "id": "b7dd3647",
   "metadata": {},
   "outputs": [],
   "source": []
  },
  {
   "cell_type": "markdown",
   "id": "438547f0",
   "metadata": {},
   "source": [
    "**Question 15-** Write a Python program to search some literals strings in a string. \n",
    "\n",
    "**Sample text :** 'The quick brown fox jumps over the lazy dog.'\n",
    "\n",
    "**Searched words :** 'fox', 'dog', 'horse'\n"
   ]
  },
  {
   "cell_type": "markdown",
   "id": "e32a9ed9",
   "metadata": {},
   "source": [
    "**Answer**"
   ]
  },
  {
   "cell_type": "code",
   "execution_count": 139,
   "id": "6ae6a15e",
   "metadata": {},
   "outputs": [
    {
     "name": "stdout",
     "output_type": "stream",
     "text": [
      "fox is in the text\n",
      "dog is in the text\n",
      "horse is not in the text\n"
     ]
    }
   ],
   "source": [
    "Sample_text=\"The quick brown fox jumps over the lazy dog.\"\n",
    "word=['fox', 'dog', 'horse']\n",
    "for i in word:\n",
    "    if re.search(i,Sample_text):\n",
    "        print(i,\"is in the text\")\n",
    "    else:\n",
    "        print(i,\"is not in the text\")"
   ]
  },
  {
   "cell_type": "code",
   "execution_count": null,
   "id": "14c23e97",
   "metadata": {},
   "outputs": [],
   "source": []
  },
  {
   "cell_type": "markdown",
   "id": "51db1c9f",
   "metadata": {},
   "source": [
    "**Question 16-** Write a Python program to search a literals string in a string and also find the location within the original string where the pattern occurs\n",
    "\n",
    "**Sample text :** 'The quick brown fox jumps over the lazy dog.'\n",
    "\n",
    "**Searched words :** 'fox'\n"
   ]
  },
  {
   "cell_type": "markdown",
   "id": "a0994fb2",
   "metadata": {},
   "source": [
    "**Answer**"
   ]
  },
  {
   "cell_type": "code",
   "execution_count": 11,
   "id": "9aca866b",
   "metadata": {},
   "outputs": [
    {
     "name": "stdout",
     "output_type": "stream",
     "text": [
      "<re.Match object; span=(16, 19), match='fox'>\n",
      "fox\n",
      "The location of fox starts with : 16 and ends with : 19\n"
     ]
    }
   ],
   "source": [
    "Sample_text=\"The quick brown fox jumps over the lazy dog.\"\n",
    "Searched_words='fox'\n",
    "\n",
    "result=re.search(Searched_words,Sample_text)\n",
    "print(result)\n",
    "print(result.group())\n",
    "print(\"The location of fox starts with :\",result.start(),\"and ends with :\",result.end())"
   ]
  },
  {
   "cell_type": "code",
   "execution_count": null,
   "id": "60944aab",
   "metadata": {},
   "outputs": [],
   "source": []
  },
  {
   "cell_type": "markdown",
   "id": "32a2f6c2",
   "metadata": {},
   "source": [
    "**Question 17-** Write a Python program to find the substrings within a string.\n",
    "\n",
    "**Sample text :** 'Python exercises, PHP exercises, C# exercises'\n",
    "\n",
    "**Pattern :** 'exercises'.\n"
   ]
  },
  {
   "cell_type": "markdown",
   "id": "6737a4f9",
   "metadata": {},
   "source": [
    "**Answer**"
   ]
  },
  {
   "cell_type": "code",
   "execution_count": 9,
   "id": "8ee2ec27",
   "metadata": {},
   "outputs": [
    {
     "name": "stdout",
     "output_type": "stream",
     "text": [
      "The string named excercises starting index is: 7 and ending index is: 16\n",
      "The string named excercises starting index is: 22 and ending index is: 31\n",
      "The string named excercises starting index is: 36 and ending index is: 45\n"
     ]
    }
   ],
   "source": [
    "import re\n",
    "pattern=r\"exercises\"\n",
    "\n",
    "Sample_text=\"Python exercises, PHP exercises, C# exercises\"\n",
    "\n",
    "output=re.finditer(pattern,Sample_text)\n",
    "\n",
    "for match in output:\n",
    "    start=match.start()\n",
    "    end=match.end()\n",
    "    print(\"The string named excercises starting index is:\",start,\"and ending index is:\",end)"
   ]
  },
  {
   "cell_type": "code",
   "execution_count": null,
   "id": "ded68370",
   "metadata": {},
   "outputs": [],
   "source": []
  },
  {
   "cell_type": "code",
   "execution_count": null,
   "id": "6f98bdb4",
   "metadata": {},
   "outputs": [],
   "source": []
  },
  {
   "cell_type": "markdown",
   "id": "94ec81f0",
   "metadata": {},
   "source": [
    "**Question 18-** Write a Python program to find the occurrence and position of the substrings within a string."
   ]
  },
  {
   "cell_type": "markdown",
   "id": "521f560b",
   "metadata": {},
   "source": [
    "**Answer**"
   ]
  },
  {
   "cell_type": "code",
   "execution_count": 23,
   "id": "b4843646",
   "metadata": {},
   "outputs": [
    {
     "name": "stdout",
     "output_type": "stream",
     "text": [
      "The string named excercises starting index is: 7 and ending index is: 16\n",
      "The string named excercises starting index is: 22 and ending index is: 31\n",
      "The string named excercises starting index is: 36 and ending index is: 45\n",
      "The substring 'exercises' occurs 3 times\n"
     ]
    }
   ],
   "source": [
    "pattern=r\"exercises\"\n",
    "\n",
    "Sample_text=\"Python exercises, PHP exercises, C# exercises\"\n",
    "\n",
    "output=list(re.finditer(pattern,Sample_text))\n",
    "occurence=len(output)\n",
    "\n",
    "for match in output:\n",
    "    \n",
    "    start=match.start()\n",
    "    end=match.end()\n",
    "    \n",
    "    print(\"The string named excercises starting index is:\",start,\"and ending index is:\",end)\n",
    "print(f\"The substring '{pattern}' occurs\",occurence,\"times\")    "
   ]
  },
  {
   "cell_type": "code",
   "execution_count": null,
   "id": "844ffba0",
   "metadata": {},
   "outputs": [],
   "source": []
  },
  {
   "cell_type": "code",
   "execution_count": null,
   "id": "186e985f",
   "metadata": {},
   "outputs": [],
   "source": []
  },
  {
   "cell_type": "markdown",
   "id": "fba0be3b",
   "metadata": {},
   "source": [
    "**Question 19-** Write a Python program to convert a date of yyyy-mm-dd format to dd-mm-yyyy format."
   ]
  },
  {
   "cell_type": "markdown",
   "id": "4697b040",
   "metadata": {},
   "source": [
    "**Answer**"
   ]
  },
  {
   "cell_type": "code",
   "execution_count": 38,
   "id": "8638e149",
   "metadata": {},
   "outputs": [
    {
     "name": "stdout",
     "output_type": "stream",
     "text": [
      "15-12-1995\n"
     ]
    }
   ],
   "source": [
    "date=\"1995-12-15\"\n",
    "pattern=\"(\\d{4})\\-(\\d{2})\\-(\\d{2})\"\n",
    "\n",
    "convert=re.findall(pattern,date)\n",
    "year,month,day=convert[0]\n",
    "new_date=f\"{day}-{month}-{year}\"\n",
    "print(new_date)\n",
    "\n",
    "\n",
    "\n"
   ]
  },
  {
   "cell_type": "code",
   "execution_count": null,
   "id": "005e32e2",
   "metadata": {},
   "outputs": [],
   "source": []
  },
  {
   "cell_type": "code",
   "execution_count": null,
   "id": "f9994c50",
   "metadata": {},
   "outputs": [],
   "source": []
  },
  {
   "cell_type": "markdown",
   "id": "6566f1eb",
   "metadata": {},
   "source": [
    "**Question 20-** Create a function in python to find all decimal numbers with a precision of 1 or 2 in a string. The use of the re.compile() method is mandatory.\n",
    "\n",
    "**Sample Text:** \"01.12 0132.123 2.31875 145.8 3.01 27.25 0.25\"\n",
    "\n",
    "**Expected Output:** ['01.12', '145.8', '3.01', '27.25', '0.25']\n"
   ]
  },
  {
   "cell_type": "markdown",
   "id": "b64bbc6e",
   "metadata": {},
   "source": [
    "**Answer**"
   ]
  },
  {
   "cell_type": "code",
   "execution_count": 87,
   "id": "baa031ba",
   "metadata": {},
   "outputs": [],
   "source": [
    "def precision(a):\n",
    "    #Sample_Text= \"01.12 0132.123 2.31875 145.8 3.01 27.25 0.25\"  \n",
    "    pattern=re.compile(r\"\\b\\d+\\.\\d{1,2}\\b\")\n",
    "    match=pattern.findall(a)\n",
    "    print(match)"
   ]
  },
  {
   "cell_type": "code",
   "execution_count": 88,
   "id": "381d2922",
   "metadata": {},
   "outputs": [
    {
     "name": "stdout",
     "output_type": "stream",
     "text": [
      "['01.12', '145.8', '3.01', '27.25', '0.25']\n"
     ]
    }
   ],
   "source": [
    "precision(\"01.12 0132.123 2.31875 145.8 3.01 27.25 0.25\")"
   ]
  },
  {
   "cell_type": "code",
   "execution_count": null,
   "id": "3c9d38e5",
   "metadata": {},
   "outputs": [],
   "source": []
  },
  {
   "cell_type": "code",
   "execution_count": null,
   "id": "1634c612",
   "metadata": {},
   "outputs": [],
   "source": []
  },
  {
   "cell_type": "markdown",
   "id": "ff6d60ac",
   "metadata": {},
   "source": [
    "**Question 21-** Write a Python program to separate and print the numbers and their position of a given string."
   ]
  },
  {
   "cell_type": "markdown",
   "id": "658a127c",
   "metadata": {},
   "source": [
    "**Answer**"
   ]
  },
  {
   "cell_type": "code",
   "execution_count": 93,
   "id": "33f23326",
   "metadata": {},
   "outputs": [
    {
     "name": "stdout",
     "output_type": "stream",
     "text": [
      "Number: '412' starting index is: 9 and it's ending index is: 12\n",
      "Number: '123' starting index is: 35 and it's ending index is: 38\n",
      "Number: '16' starting index is: 96 and it's ending index is: 98\n"
     ]
    }
   ],
   "source": [
    "Target=\"You have 412 numbers of apples and 123 numbers of oranges but there is a problem , you are just 16 and you have to carry that by yourself\"\n",
    "pattern=\"\\d+\"\n",
    "match=re.finditer(pattern,Target)\n",
    "for i in match:\n",
    "    number=i.group()\n",
    "    print(f\"Number: '{number}' starting index is:\",i.start(),\"and it's ending index is:\",i.end())"
   ]
  },
  {
   "cell_type": "code",
   "execution_count": null,
   "id": "7f0beb60",
   "metadata": {},
   "outputs": [],
   "source": []
  },
  {
   "cell_type": "code",
   "execution_count": null,
   "id": "8a784d40",
   "metadata": {},
   "outputs": [],
   "source": []
  },
  {
   "cell_type": "markdown",
   "id": "c6753424",
   "metadata": {},
   "source": [
    "**Question 22-** Write a regular expression in python program to extract maximum/largest numeric value from a string.\n",
    "\n",
    "**Sample Text:**  'My marks in each semester are: 947, 896, 926, 524, 734, 950, 642'\n",
    "\n",
    "**Expected Output:** 950\n"
   ]
  },
  {
   "cell_type": "markdown",
   "id": "25a57a50",
   "metadata": {},
   "source": [
    "**Answer**"
   ]
  },
  {
   "cell_type": "code",
   "execution_count": 104,
   "id": "ac9c8fa0",
   "metadata": {},
   "outputs": [
    {
     "name": "stdout",
     "output_type": "stream",
     "text": [
      "950\n"
     ]
    }
   ],
   "source": [
    "Sample_Text= 'My marks in each semester are: 947, 896, 926, 524, 734, 950, 642'\n",
    "\n",
    "new=re.findall(\"\\d+\",Sample_Text)\n",
    "max=max(new)\n",
    "print(max)"
   ]
  },
  {
   "cell_type": "code",
   "execution_count": null,
   "id": "9e87a7c5",
   "metadata": {},
   "outputs": [],
   "source": []
  },
  {
   "cell_type": "code",
   "execution_count": null,
   "id": "fb26c71a",
   "metadata": {},
   "outputs": [],
   "source": []
  },
  {
   "cell_type": "markdown",
   "id": "d6bfeaf2",
   "metadata": {},
   "source": [
    "**Question 23-** Create a function in python to insert spaces between words starting with capital letters.\n",
    "\n",
    "**Sample Text:** \"RegularExpressionIsAnImportantTopicInPython\"\n",
    "\n",
    "**Expected Output:** Regular Expression Is An Important Topic In Python\n"
   ]
  },
  {
   "cell_type": "markdown",
   "id": "7b0df2c2",
   "metadata": {},
   "source": [
    "**Answer**"
   ]
  },
  {
   "cell_type": "code",
   "execution_count": 110,
   "id": "30fc58f0",
   "metadata": {},
   "outputs": [],
   "source": [
    "def space(a):\n",
    "    pattern=r\"([A-Z])\"\n",
    "    new=re.sub(pattern,r\" \\1\",a)\n",
    "    print(new)"
   ]
  },
  {
   "cell_type": "code",
   "execution_count": 111,
   "id": "40a240c9",
   "metadata": {},
   "outputs": [
    {
     "name": "stdout",
     "output_type": "stream",
     "text": [
      " Regular Expression Is An Important Topic In Python\n"
     ]
    }
   ],
   "source": [
    "space(\"RegularExpressionIsAnImportantTopicInPython\")"
   ]
  },
  {
   "cell_type": "code",
   "execution_count": null,
   "id": "96ee8e63",
   "metadata": {},
   "outputs": [],
   "source": []
  },
  {
   "cell_type": "markdown",
   "id": "df184ff1",
   "metadata": {},
   "source": [
    "**Question 24-** Python regex to find sequences of one upper case letter followed by lower case letters"
   ]
  },
  {
   "cell_type": "markdown",
   "id": "3afb0315",
   "metadata": {},
   "source": [
    "**Answer**"
   ]
  },
  {
   "cell_type": "code",
   "execution_count": 116,
   "id": "f3f11881",
   "metadata": {},
   "outputs": [
    {
     "name": "stdout",
     "output_type": "stream",
     "text": [
      "['Hello', 'How']\n"
     ]
    }
   ],
   "source": [
    "Target=\"Hello! How are you all?\"\n",
    "pattern=r\"\\b[A-Z]{1}[a-z]+\\b\"\n",
    "match=re.findall(pattern,Target)\n",
    "print(match)"
   ]
  },
  {
   "cell_type": "code",
   "execution_count": null,
   "id": "af0522fc",
   "metadata": {},
   "outputs": [],
   "source": []
  },
  {
   "cell_type": "code",
   "execution_count": null,
   "id": "167f7a1d",
   "metadata": {},
   "outputs": [],
   "source": []
  },
  {
   "cell_type": "markdown",
   "id": "6ce733fc",
   "metadata": {},
   "source": [
    "**Question 25-** Write a Python program to remove continuous duplicate words from Sentence using Regular Expression.\n",
    "\n",
    "**Sample Text:** \"Hello hello world world\"\n",
    "\n",
    "**Expected Output:** Hello hello world\n"
   ]
  },
  {
   "cell_type": "markdown",
   "id": "c5e47008",
   "metadata": {},
   "source": [
    "**Answer**"
   ]
  },
  {
   "cell_type": "code",
   "execution_count": 126,
   "id": "ba48a8d9",
   "metadata": {},
   "outputs": [
    {
     "name": "stdout",
     "output_type": "stream",
     "text": [
      "Hello hello world\n"
     ]
    }
   ],
   "source": [
    "Sample_Text=\"Hello hello world world\"\n",
    "\n",
    "pattern=r\"\\b(\\w+)\\s+\\1\\b\"\n",
    "\n",
    "clean=re.sub(pattern, r\"\\1\",Sample_Text)\n",
    "print(clean)"
   ]
  },
  {
   "cell_type": "code",
   "execution_count": null,
   "id": "75a035db",
   "metadata": {},
   "outputs": [],
   "source": []
  },
  {
   "cell_type": "code",
   "execution_count": null,
   "id": "d6cca938",
   "metadata": {},
   "outputs": [],
   "source": []
  },
  {
   "cell_type": "markdown",
   "id": "df15fcff",
   "metadata": {},
   "source": [
    "**Question 26-** Write a python program using RegEx to accept string ending with alphanumeric character."
   ]
  },
  {
   "cell_type": "markdown",
   "id": "7d40ec9e",
   "metadata": {},
   "source": [
    "**Answer**"
   ]
  },
  {
   "cell_type": "code",
   "execution_count": 131,
   "id": "9132b245",
   "metadata": {},
   "outputs": [
    {
     "name": "stdout",
     "output_type": "stream",
     "text": [
      "['Abhs245', 'gsh4']\n"
     ]
    }
   ],
   "source": [
    "target=\"We know each others password mine is Abhs245 and his is gsh4 and Rayn's password was Arsgh5GHah\"\n",
    "\n",
    "pattern=r\"\\b\\w+\\d+\\b\"\n",
    "match=re.findall(pattern,target)\n",
    "print(match)"
   ]
  },
  {
   "cell_type": "code",
   "execution_count": null,
   "id": "0fd7dd23",
   "metadata": {},
   "outputs": [],
   "source": []
  },
  {
   "cell_type": "code",
   "execution_count": null,
   "id": "4d178d2f",
   "metadata": {},
   "outputs": [],
   "source": []
  },
  {
   "cell_type": "markdown",
   "id": "9c519aff",
   "metadata": {},
   "source": [
    "**Question 27-** Write a python program using RegEx to extract the hashtags.\n",
    "\n",
    "**Sample Text:**  \"\"\"RT @kapil_kausik: #Doltiwal I mean #xyzabc is \"hurt\" by #Demonetization as the same has rendered USELESS <ed><U+00A0><U+00BD><ed><U+00B1><U+0089> \"acquired funds\" No wo\"\"\"\n",
    "\n",
    "**Expected Output:** ['#Doltiwal', '#xyzabc', '#Demonetization']\n"
   ]
  },
  {
   "cell_type": "markdown",
   "id": "64d33a10",
   "metadata": {},
   "source": [
    "**Answer**"
   ]
  },
  {
   "cell_type": "code",
   "execution_count": 138,
   "id": "f62efb77",
   "metadata": {},
   "outputs": [
    {
     "name": "stdout",
     "output_type": "stream",
     "text": [
      "['#Doltiwal', '#xyzabc', '#Demonetization']\n"
     ]
    }
   ],
   "source": [
    "Sample_Text=\"\"\"RT @kapil_kausik: #Doltiwal I mean #xyzabc is \"hurt\" by #Demonetization as the same has rendered USELESS <U+00A0><U+00BD><U+00B1><U+0089> \"acquired funds\" No wo\"\"\"\n",
    "\n",
    "pattern=r\"\\#[A-Za-z]+\"\n",
    "\n",
    "match=re.findall(pattern,Sample_Text)\n",
    "print(match)"
   ]
  },
  {
   "cell_type": "code",
   "execution_count": null,
   "id": "ac063246",
   "metadata": {},
   "outputs": [],
   "source": []
  },
  {
   "cell_type": "code",
   "execution_count": null,
   "id": "61e0e674",
   "metadata": {},
   "outputs": [],
   "source": []
  },
  {
   "cell_type": "markdown",
   "id": "625497c6",
   "metadata": {},
   "source": [
    "**Question 28-** Write a python program using RegEx to remove <U+..> like symbols\n",
    "Check the below sample text, there are strange symbols something of the sort <U+..> all over the place. You need to come up with a general Regex expression that will cover all such symbols.\n",
    "\n",
    "**Sample Text:** \"@Jags123456 Bharat band on 28??<ed><U+00A0><U+00BD><ed><U+00B8><U+0082>Those who  are protesting #demonetization  are all different party leaders\"\n",
    "\n",
    "**Expected Output:** @Jags123456 Bharat band on 28??<ed><ed>Those who  are protesting #demonetization  are all different party leaders\n"
   ]
  },
  {
   "cell_type": "markdown",
   "id": "10e4653f",
   "metadata": {},
   "source": [
    "**Answer**"
   ]
  },
  {
   "cell_type": "code",
   "execution_count": 142,
   "id": "5867cce9",
   "metadata": {},
   "outputs": [
    {
     "name": "stdout",
     "output_type": "stream",
     "text": [
      "@Jags123456 Bharat band on 28??Those who are protesting #demonetization are all different party leaders\n"
     ]
    }
   ],
   "source": [
    "Sample_Text=\"@Jags123456 Bharat band on 28??<U+00A0><U+00BD><U+00B8><U+0082>Those who are protesting #demonetization are all different party leaders\"\n",
    "pattern=\"<U\\+\\w+>\"\n",
    "match=re.sub(pattern,\"\",Sample_Text)\n",
    "print(match)"
   ]
  },
  {
   "cell_type": "code",
   "execution_count": null,
   "id": "63358821",
   "metadata": {},
   "outputs": [],
   "source": []
  },
  {
   "cell_type": "code",
   "execution_count": null,
   "id": "64eca8a6",
   "metadata": {},
   "outputs": [],
   "source": []
  },
  {
   "cell_type": "markdown",
   "id": "77fdccbd",
   "metadata": {},
   "source": [
    "**Question 29-** Write a python program to extract dates from the text stored in the text file.\n",
    "\n",
    "**Sample Text:** Ron was born on 12-09-1992 and he was admitted to school 15-12-1999.\n",
    "\n",
    "**Note-** Store this sample text in the file and then extract dates.\n"
   ]
  },
  {
   "cell_type": "markdown",
   "id": "190755e8",
   "metadata": {},
   "source": [
    "**Answer**"
   ]
  },
  {
   "cell_type": "code",
   "execution_count": 148,
   "id": "25c1ca0c",
   "metadata": {},
   "outputs": [
    {
     "name": "stdout",
     "output_type": "stream",
     "text": [
      "['12-09-1992', '15-12-1999']\n"
     ]
    }
   ],
   "source": [
    "with open(r\"C:\\Users\\Sourendra\\Desktop\\Find date.txt\") as file:\n",
    "    for line in file:\n",
    "        pattern=\"\\d{2}\\-\\d{2}\\-\\d{4}\"\n",
    "        match=re.findall(pattern,line)\n",
    "        print(match)"
   ]
  },
  {
   "cell_type": "code",
   "execution_count": null,
   "id": "30360496",
   "metadata": {},
   "outputs": [],
   "source": []
  },
  {
   "cell_type": "markdown",
   "id": "4af12867",
   "metadata": {},
   "source": [
    "**Question 30-** Create a function in python to remove all words from a string of length between 2 and 4.\n",
    "The use of the re.compile() method is mandatory.\n",
    "\n",
    "**Sample Text:** \"The following example creates an ArrayList with a capacity of 50 elements. 4 elements are then added to the ArrayList and the ArrayList is trimmed accordingly.\"\n",
    "\n",
    "**Expected Output:**  following example creates ArrayList a capacity elements. 4 elements added ArrayList ArrayList trimmed accordingly.\n"
   ]
  },
  {
   "cell_type": "markdown",
   "id": "425e87e3",
   "metadata": {},
   "source": [
    "**Answer**"
   ]
  },
  {
   "cell_type": "code",
   "execution_count": 156,
   "id": "4cc779f2",
   "metadata": {},
   "outputs": [
    {
     "name": "stdout",
     "output_type": "stream",
     "text": [
      "following example creates  ArrayList  a capacity   elements. 4 elements   added   ArrayList   ArrayList  trimmed accordingly.\n"
     ]
    }
   ],
   "source": [
    "Sample_Text=\"The following example creates an ArrayList with a capacity of 50 elements. 4 elements are then added to the ArrayList and the ArrayList is trimmed accordingly.\"\n",
    "\n",
    "pattern=re.compile(r\"\\b\\w{2,4}\\b\")\n",
    "\n",
    "new=pattern.sub(\"\",Sample_Text).strip()\n",
    "print(new)\n"
   ]
  },
  {
   "cell_type": "code",
   "execution_count": null,
   "id": "ce386fd2",
   "metadata": {},
   "outputs": [],
   "source": []
  },
  {
   "cell_type": "code",
   "execution_count": null,
   "id": "8320b2f2",
   "metadata": {},
   "outputs": [],
   "source": []
  },
  {
   "cell_type": "code",
   "execution_count": null,
   "id": "e1c9da68",
   "metadata": {},
   "outputs": [],
   "source": []
  }
 ],
 "metadata": {
  "kernelspec": {
   "display_name": "Python 3 (ipykernel)",
   "language": "python",
   "name": "python3"
  },
  "language_info": {
   "codemirror_mode": {
    "name": "ipython",
    "version": 3
   },
   "file_extension": ".py",
   "mimetype": "text/x-python",
   "name": "python",
   "nbconvert_exporter": "python",
   "pygments_lexer": "ipython3",
   "version": "3.10.9"
  }
 },
 "nbformat": 4,
 "nbformat_minor": 5
}
